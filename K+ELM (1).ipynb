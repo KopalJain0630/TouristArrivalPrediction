{
  "nbformat": 4,
  "nbformat_minor": 0,
  "metadata": {
    "colab": {
      "provenance": []
    },
    "kernelspec": {
      "name": "python3",
      "display_name": "Python 3"
    },
    "language_info": {
      "name": "python"
    }
  },
  "cells": [
    {
      "cell_type": "code",
      "execution_count": null,
      "metadata": {
        "id": "de2p_qfEQmhk"
      },
      "outputs": [],
      "source": [
        "import numpy as np\n",
        "from sklearn.model_selection import train_test_split\n",
        "from sklearn.metrics import accuracy_score\n",
        "from sklearn.kernel_approximation import RBFSampler\n",
        "from sklearn.linear_model import RidgeClassifier"
      ]
    },
    {
      "cell_type": "code",
      "source": [
        "# Importing Important Libraries\n",
        "import pandas as pd\n",
        "import numpy as np\n",
        "import matplotlib.pyplot as plt\n",
        "import seaborn as sns\n",
        "%matplotlib inline\n",
        "\n",
        "import warnings\n",
        "warnings.filterwarnings(\"ignore\", category=DeprecationWarning)"
      ],
      "metadata": {
        "id": "DD4ma2YYR0Ib"
      },
      "execution_count": null,
      "outputs": []
    },
    {
      "cell_type": "code",
      "source": [
        "df = pd.read_csv('With-diff-Top4-Kerala-new.csv')\n",
        "df.head()"
      ],
      "metadata": {
        "colab": {
          "base_uri": "https://localhost:8080/",
          "height": 206
        },
        "id": "VqRcuGlZR2_l",
        "outputId": "d57998c0-edd9-4f2b-a2e1-52eb98d9e003"
      },
      "execution_count": null,
      "outputs": [
        {
          "output_type": "execute_result",
          "data": {
            "text/plain": [
              "   Unnamed: 0  Kerala_Tourism_diff  Bus & Rail_diff  Travel Agencies_diff  \\\n",
              "0           3            -0.086554         0.390932             -0.316707   \n",
              "1           7            -0.778985         0.097733             -0.633414   \n",
              "2           9             0.865539        -0.684130              0.791767   \n",
              "3          12            -1.644523        -0.293199             -1.425180   \n",
              "4          13            -0.346215        -0.781863             -0.475060   \n",
              "\n",
              "   Travel_diff  Kerala_Weather_diff  Target_diff  \n",
              "0     0.608401             0.278507     -35825.0  \n",
              "1     0.000000             0.000000      -1404.0  \n",
              "2     0.202800             0.278507         -4.0  \n",
              "3    -1.419602            -0.696267      45452.0  \n",
              "4    -0.608401             0.000000       -781.0  "
            ],
            "text/html": [
              "\n",
              "  <div id=\"df-63cc1be4-0ade-4498-a8a8-90a11152b3e2\" class=\"colab-df-container\">\n",
              "    <div>\n",
              "<style scoped>\n",
              "    .dataframe tbody tr th:only-of-type {\n",
              "        vertical-align: middle;\n",
              "    }\n",
              "\n",
              "    .dataframe tbody tr th {\n",
              "        vertical-align: top;\n",
              "    }\n",
              "\n",
              "    .dataframe thead th {\n",
              "        text-align: right;\n",
              "    }\n",
              "</style>\n",
              "<table border=\"1\" class=\"dataframe\">\n",
              "  <thead>\n",
              "    <tr style=\"text-align: right;\">\n",
              "      <th></th>\n",
              "      <th>Unnamed: 0</th>\n",
              "      <th>Kerala_Tourism_diff</th>\n",
              "      <th>Bus &amp; Rail_diff</th>\n",
              "      <th>Travel Agencies_diff</th>\n",
              "      <th>Travel_diff</th>\n",
              "      <th>Kerala_Weather_diff</th>\n",
              "      <th>Target_diff</th>\n",
              "    </tr>\n",
              "  </thead>\n",
              "  <tbody>\n",
              "    <tr>\n",
              "      <th>0</th>\n",
              "      <td>3</td>\n",
              "      <td>-0.086554</td>\n",
              "      <td>0.390932</td>\n",
              "      <td>-0.316707</td>\n",
              "      <td>0.608401</td>\n",
              "      <td>0.278507</td>\n",
              "      <td>-35825.0</td>\n",
              "    </tr>\n",
              "    <tr>\n",
              "      <th>1</th>\n",
              "      <td>7</td>\n",
              "      <td>-0.778985</td>\n",
              "      <td>0.097733</td>\n",
              "      <td>-0.633414</td>\n",
              "      <td>0.000000</td>\n",
              "      <td>0.000000</td>\n",
              "      <td>-1404.0</td>\n",
              "    </tr>\n",
              "    <tr>\n",
              "      <th>2</th>\n",
              "      <td>9</td>\n",
              "      <td>0.865539</td>\n",
              "      <td>-0.684130</td>\n",
              "      <td>0.791767</td>\n",
              "      <td>0.202800</td>\n",
              "      <td>0.278507</td>\n",
              "      <td>-4.0</td>\n",
              "    </tr>\n",
              "    <tr>\n",
              "      <th>3</th>\n",
              "      <td>12</td>\n",
              "      <td>-1.644523</td>\n",
              "      <td>-0.293199</td>\n",
              "      <td>-1.425180</td>\n",
              "      <td>-1.419602</td>\n",
              "      <td>-0.696267</td>\n",
              "      <td>45452.0</td>\n",
              "    </tr>\n",
              "    <tr>\n",
              "      <th>4</th>\n",
              "      <td>13</td>\n",
              "      <td>-0.346215</td>\n",
              "      <td>-0.781863</td>\n",
              "      <td>-0.475060</td>\n",
              "      <td>-0.608401</td>\n",
              "      <td>0.000000</td>\n",
              "      <td>-781.0</td>\n",
              "    </tr>\n",
              "  </tbody>\n",
              "</table>\n",
              "</div>\n",
              "    <div class=\"colab-df-buttons\">\n",
              "\n",
              "  <div class=\"colab-df-container\">\n",
              "    <button class=\"colab-df-convert\" onclick=\"convertToInteractive('df-63cc1be4-0ade-4498-a8a8-90a11152b3e2')\"\n",
              "            title=\"Convert this dataframe to an interactive table.\"\n",
              "            style=\"display:none;\">\n",
              "\n",
              "  <svg xmlns=\"http://www.w3.org/2000/svg\" height=\"24px\" viewBox=\"0 -960 960 960\">\n",
              "    <path d=\"M120-120v-720h720v720H120Zm60-500h600v-160H180v160Zm220 220h160v-160H400v160Zm0 220h160v-160H400v160ZM180-400h160v-160H180v160Zm440 0h160v-160H620v160ZM180-180h160v-160H180v160Zm440 0h160v-160H620v160Z\"/>\n",
              "  </svg>\n",
              "    </button>\n",
              "\n",
              "  <style>\n",
              "    .colab-df-container {\n",
              "      display:flex;\n",
              "      gap: 12px;\n",
              "    }\n",
              "\n",
              "    .colab-df-convert {\n",
              "      background-color: #E8F0FE;\n",
              "      border: none;\n",
              "      border-radius: 50%;\n",
              "      cursor: pointer;\n",
              "      display: none;\n",
              "      fill: #1967D2;\n",
              "      height: 32px;\n",
              "      padding: 0 0 0 0;\n",
              "      width: 32px;\n",
              "    }\n",
              "\n",
              "    .colab-df-convert:hover {\n",
              "      background-color: #E2EBFA;\n",
              "      box-shadow: 0px 1px 2px rgba(60, 64, 67, 0.3), 0px 1px 3px 1px rgba(60, 64, 67, 0.15);\n",
              "      fill: #174EA6;\n",
              "    }\n",
              "\n",
              "    .colab-df-buttons div {\n",
              "      margin-bottom: 4px;\n",
              "    }\n",
              "\n",
              "    [theme=dark] .colab-df-convert {\n",
              "      background-color: #3B4455;\n",
              "      fill: #D2E3FC;\n",
              "    }\n",
              "\n",
              "    [theme=dark] .colab-df-convert:hover {\n",
              "      background-color: #434B5C;\n",
              "      box-shadow: 0px 1px 3px 1px rgba(0, 0, 0, 0.15);\n",
              "      filter: drop-shadow(0px 1px 2px rgba(0, 0, 0, 0.3));\n",
              "      fill: #FFFFFF;\n",
              "    }\n",
              "  </style>\n",
              "\n",
              "    <script>\n",
              "      const buttonEl =\n",
              "        document.querySelector('#df-63cc1be4-0ade-4498-a8a8-90a11152b3e2 button.colab-df-convert');\n",
              "      buttonEl.style.display =\n",
              "        google.colab.kernel.accessAllowed ? 'block' : 'none';\n",
              "\n",
              "      async function convertToInteractive(key) {\n",
              "        const element = document.querySelector('#df-63cc1be4-0ade-4498-a8a8-90a11152b3e2');\n",
              "        const dataTable =\n",
              "          await google.colab.kernel.invokeFunction('convertToInteractive',\n",
              "                                                    [key], {});\n",
              "        if (!dataTable) return;\n",
              "\n",
              "        const docLinkHtml = 'Like what you see? Visit the ' +\n",
              "          '<a target=\"_blank\" href=https://colab.research.google.com/notebooks/data_table.ipynb>data table notebook</a>'\n",
              "          + ' to learn more about interactive tables.';\n",
              "        element.innerHTML = '';\n",
              "        dataTable['output_type'] = 'display_data';\n",
              "        await google.colab.output.renderOutput(dataTable, element);\n",
              "        const docLink = document.createElement('div');\n",
              "        docLink.innerHTML = docLinkHtml;\n",
              "        element.appendChild(docLink);\n",
              "      }\n",
              "    </script>\n",
              "  </div>\n",
              "\n",
              "\n",
              "<div id=\"df-f0d6c17e-4293-465f-a366-4a40ae70b484\">\n",
              "  <button class=\"colab-df-quickchart\" onclick=\"quickchart('df-f0d6c17e-4293-465f-a366-4a40ae70b484')\"\n",
              "            title=\"Suggest charts.\"\n",
              "            style=\"display:none;\">\n",
              "\n",
              "<svg xmlns=\"http://www.w3.org/2000/svg\" height=\"24px\"viewBox=\"0 0 24 24\"\n",
              "     width=\"24px\">\n",
              "    <g>\n",
              "        <path d=\"M19 3H5c-1.1 0-2 .9-2 2v14c0 1.1.9 2 2 2h14c1.1 0 2-.9 2-2V5c0-1.1-.9-2-2-2zM9 17H7v-7h2v7zm4 0h-2V7h2v10zm4 0h-2v-4h2v4z\"/>\n",
              "    </g>\n",
              "</svg>\n",
              "  </button>\n",
              "\n",
              "<style>\n",
              "  .colab-df-quickchart {\n",
              "      --bg-color: #E8F0FE;\n",
              "      --fill-color: #1967D2;\n",
              "      --hover-bg-color: #E2EBFA;\n",
              "      --hover-fill-color: #174EA6;\n",
              "      --disabled-fill-color: #AAA;\n",
              "      --disabled-bg-color: #DDD;\n",
              "  }\n",
              "\n",
              "  [theme=dark] .colab-df-quickchart {\n",
              "      --bg-color: #3B4455;\n",
              "      --fill-color: #D2E3FC;\n",
              "      --hover-bg-color: #434B5C;\n",
              "      --hover-fill-color: #FFFFFF;\n",
              "      --disabled-bg-color: #3B4455;\n",
              "      --disabled-fill-color: #666;\n",
              "  }\n",
              "\n",
              "  .colab-df-quickchart {\n",
              "    background-color: var(--bg-color);\n",
              "    border: none;\n",
              "    border-radius: 50%;\n",
              "    cursor: pointer;\n",
              "    display: none;\n",
              "    fill: var(--fill-color);\n",
              "    height: 32px;\n",
              "    padding: 0;\n",
              "    width: 32px;\n",
              "  }\n",
              "\n",
              "  .colab-df-quickchart:hover {\n",
              "    background-color: var(--hover-bg-color);\n",
              "    box-shadow: 0 1px 2px rgba(60, 64, 67, 0.3), 0 1px 3px 1px rgba(60, 64, 67, 0.15);\n",
              "    fill: var(--button-hover-fill-color);\n",
              "  }\n",
              "\n",
              "  .colab-df-quickchart-complete:disabled,\n",
              "  .colab-df-quickchart-complete:disabled:hover {\n",
              "    background-color: var(--disabled-bg-color);\n",
              "    fill: var(--disabled-fill-color);\n",
              "    box-shadow: none;\n",
              "  }\n",
              "\n",
              "  .colab-df-spinner {\n",
              "    border: 2px solid var(--fill-color);\n",
              "    border-color: transparent;\n",
              "    border-bottom-color: var(--fill-color);\n",
              "    animation:\n",
              "      spin 1s steps(1) infinite;\n",
              "  }\n",
              "\n",
              "  @keyframes spin {\n",
              "    0% {\n",
              "      border-color: transparent;\n",
              "      border-bottom-color: var(--fill-color);\n",
              "      border-left-color: var(--fill-color);\n",
              "    }\n",
              "    20% {\n",
              "      border-color: transparent;\n",
              "      border-left-color: var(--fill-color);\n",
              "      border-top-color: var(--fill-color);\n",
              "    }\n",
              "    30% {\n",
              "      border-color: transparent;\n",
              "      border-left-color: var(--fill-color);\n",
              "      border-top-color: var(--fill-color);\n",
              "      border-right-color: var(--fill-color);\n",
              "    }\n",
              "    40% {\n",
              "      border-color: transparent;\n",
              "      border-right-color: var(--fill-color);\n",
              "      border-top-color: var(--fill-color);\n",
              "    }\n",
              "    60% {\n",
              "      border-color: transparent;\n",
              "      border-right-color: var(--fill-color);\n",
              "    }\n",
              "    80% {\n",
              "      border-color: transparent;\n",
              "      border-right-color: var(--fill-color);\n",
              "      border-bottom-color: var(--fill-color);\n",
              "    }\n",
              "    90% {\n",
              "      border-color: transparent;\n",
              "      border-bottom-color: var(--fill-color);\n",
              "    }\n",
              "  }\n",
              "</style>\n",
              "\n",
              "  <script>\n",
              "    async function quickchart(key) {\n",
              "      const quickchartButtonEl =\n",
              "        document.querySelector('#' + key + ' button');\n",
              "      quickchartButtonEl.disabled = true;  // To prevent multiple clicks.\n",
              "      quickchartButtonEl.classList.add('colab-df-spinner');\n",
              "      try {\n",
              "        const charts = await google.colab.kernel.invokeFunction(\n",
              "            'suggestCharts', [key], {});\n",
              "      } catch (error) {\n",
              "        console.error('Error during call to suggestCharts:', error);\n",
              "      }\n",
              "      quickchartButtonEl.classList.remove('colab-df-spinner');\n",
              "      quickchartButtonEl.classList.add('colab-df-quickchart-complete');\n",
              "    }\n",
              "    (() => {\n",
              "      let quickchartButtonEl =\n",
              "        document.querySelector('#df-f0d6c17e-4293-465f-a366-4a40ae70b484 button');\n",
              "      quickchartButtonEl.style.display =\n",
              "        google.colab.kernel.accessAllowed ? 'block' : 'none';\n",
              "    })();\n",
              "  </script>\n",
              "</div>\n",
              "    </div>\n",
              "  </div>\n"
            ]
          },
          "metadata": {},
          "execution_count": 4
        }
      ]
    },
    {
      "cell_type": "code",
      "source": [
        "df = df.replace(to_replace=\"<1\",\n",
        "           value=0.5)"
      ],
      "metadata": {
        "id": "seyZwlwlSBWm"
      },
      "execution_count": null,
      "outputs": []
    },
    {
      "cell_type": "code",
      "source": [
        "# df[\"Party & Holiday Supplies\"] = df[\"Party & Holiday Supplies\"].astype(float)\n",
        "# df[\"Car & Taxi Rental\"] = df[\"Car & Taxi Rental\"].astype(float)"
      ],
      "metadata": {
        "id": "GZz0Ly3sSSKo"
      },
      "execution_count": null,
      "outputs": []
    },
    {
      "cell_type": "code",
      "source": [
        "def create_features(df, label=None):\n",
        "    \"\"\"\n",
        "    Creates time series features from datetime index\n",
        "    \"\"\"\n",
        "    df['date'] = df.index\n",
        "    df['dayofweek'] = df['Date'].dt.dayofweek\n",
        "    df['quarter'] = df['Date'].dt.quarter\n",
        "    df['month'] = df['Date'].dt.month\n",
        "    df['year'] = df['Date'].dt.year\n",
        "    df['dayofyear'] = df['Date'].dt.dayofyear\n",
        "    df['dayofmonth'] = df['Date'].dt.day\n",
        "    df['weekofyear'] = df['Date'].dt.weekofyear\n",
        "\n",
        "    X = df[['quarter','month','year','Rain', 'T_max', 'T_min', 'Himachal_Pradesh', 'HP_Tourism', 'HP_Weather', 'HP_Travel', 'Party & Holiday Supplies', 'Geographic Reference', 'Travel', 'Hotels & Accommodations', 'Bus & Rail', 'Car & Taxi', 'Tourist Destinations', 'Travel Agencies']]\n",
        "    if label:\n",
        "        y = df[label]\n",
        "        return X, y\n",
        "    return X"
      ],
      "metadata": {
        "id": "JQ1DCNvNSb1V"
      },
      "execution_count": null,
      "outputs": []
    },
    {
      "cell_type": "code",
      "source": [
        "split_date = '2020-01-05'\n",
        "df_train = df.loc[df[\"Date\"] <= split_date].copy()\n",
        "df_test = df.loc[df[\"Date\"] > split_date].copy()"
      ],
      "metadata": {
        "id": "XSfO3g-9SdrC"
      },
      "execution_count": null,
      "outputs": []
    },
    {
      "cell_type": "code",
      "source": [
        "x = df.drop([\"Target_diff\"], axis = 1)\n",
        "y = df[\"Target_diff\"]"
      ],
      "metadata": {
        "id": "lrw_Tcva1vsd"
      },
      "execution_count": null,
      "outputs": []
    },
    {
      "cell_type": "code",
      "source": [
        "X_train, y_train = create_features(df_train, label='Tourist Arrivals')\n",
        "X_test, y_test = create_features(df_test, label='Tourist Arrivals')\n",
        "X, y = create_features(df, label='Tourist Arrivals')"
      ],
      "metadata": {
        "colab": {
          "base_uri": "https://localhost:8080/"
        },
        "id": "xWLdgP38SfaO",
        "outputId": "f02939be-7bfc-47db-f129-ab39bba38bd6"
      },
      "execution_count": null,
      "outputs": [
        {
          "output_type": "stream",
          "name": "stderr",
          "text": [
            "<ipython-input-46-6ec74d244730>:12: FutureWarning: Series.dt.weekofyear and Series.dt.week have been deprecated. Please use Series.dt.isocalendar().week instead.\n",
            "  df['weekofyear'] = df['Date'].dt.weekofyear\n",
            "<ipython-input-46-6ec74d244730>:12: FutureWarning: Series.dt.weekofyear and Series.dt.week have been deprecated. Please use Series.dt.isocalendar().week instead.\n",
            "  df['weekofyear'] = df['Date'].dt.weekofyear\n",
            "<ipython-input-46-6ec74d244730>:12: FutureWarning: Series.dt.weekofyear and Series.dt.week have been deprecated. Please use Series.dt.isocalendar().week instead.\n",
            "  df['weekofyear'] = df['Date'].dt.weekofyear\n"
          ]
        }
      ]
    },
    {
      "cell_type": "code",
      "source": [
        "from sklearn.model_selection import train_test_split\n",
        "from sklearn.metrics import r2_score\n",
        "from sklearn.metrics import mean_squared_error as mse\n",
        "from math import sqrt\n",
        "# X = X\n",
        "# y = y\n",
        "\n",
        "# # X['SKU id'] = X['SKU id'].replace({'SKU-': ''}, regex=True)\n",
        "# # X['Warehouse id'] = X['Warehouse id'].replace({'Wh-': ''}, regex=True)\n",
        "# #X.head()\n",
        "\n",
        "x_train, x_test, y_train, y_test = train_test_split(x, y, test_size=0.2, random_state=42, shuffle=False)"
      ],
      "metadata": {
        "id": "99PSeNGy13Rk"
      },
      "execution_count": null,
      "outputs": []
    },
    {
      "cell_type": "code",
      "source": [
        "from sklearn.linear_model import Ridge\n",
        "from sklearn.metrics import mean_squared_error\n",
        "\n",
        "# Choose a kernel and set its parameters\n",
        "gamma = 0.1\n",
        "n_components = 100\n",
        "rbf_feature = RBFSampler(gamma=gamma, n_components=n_components)\n",
        "\n",
        "# Apply the kernel to the training data\n",
        "x_train_transformed = rbf_feature.fit_transform(x_train)"
      ],
      "metadata": {
        "id": "bLdOJzO5ShJL"
      },
      "execution_count": null,
      "outputs": []
    },
    {
      "cell_type": "code",
      "source": [
        "x_test_transformed = rbf_feature.transform(x_test)"
      ],
      "metadata": {
        "id": "oLa23_PFTq2T"
      },
      "execution_count": null,
      "outputs": []
    },
    {
      "cell_type": "code",
      "source": [
        "INPUT_LENGHT = x_train_transformed.shape[1] # 784\n",
        "HIDDEN_UNITS = 1000\n",
        "\n",
        "Win = np.random.normal(size=[INPUT_LENGHT, HIDDEN_UNITS])\n",
        "print('Input Weight shape: {shape}'.format(shape=Win.shape))"
      ],
      "metadata": {
        "colab": {
          "base_uri": "https://localhost:8080/"
        },
        "id": "nShTpTBwSleo",
        "outputId": "e81f2790-f79c-4d8e-ac9a-1d3459b5e79e"
      },
      "execution_count": null,
      "outputs": [
        {
          "output_type": "stream",
          "name": "stdout",
          "text": [
            "Input Weight shape: (100, 1000)\n"
          ]
        }
      ]
    },
    {
      "cell_type": "code",
      "source": [
        "def input_to_hidden(x):\n",
        "    a = np.dot(x, Win)\n",
        "    a = np.maximum(a, 0, a) # ReLU\n",
        "    return a"
      ],
      "metadata": {
        "id": "ZyYWMwWnSxaO"
      },
      "execution_count": null,
      "outputs": []
    },
    {
      "cell_type": "code",
      "source": [
        "Xi = input_to_hidden(x_train_transformed)\n",
        "Xt = np.transpose(Xi)\n",
        "Wout = np.dot(np.linalg.inv(np.dot(Xt, Xi)), np.dot(Xt, y_train))\n",
        "print('Output weights shape: {shape}'.format(shape=Wout.shape))"
      ],
      "metadata": {
        "colab": {
          "base_uri": "https://localhost:8080/"
        },
        "id": "GoXVBP0OSz7p",
        "outputId": "624fbcee-7498-48dd-a422-55e4850c1b2f"
      },
      "execution_count": null,
      "outputs": [
        {
          "output_type": "stream",
          "name": "stdout",
          "text": [
            "Output weights shape: (1000,)\n"
          ]
        }
      ]
    },
    {
      "cell_type": "code",
      "source": [
        "def predict(x):\n",
        "    x = input_to_hidden(x)\n",
        "    y = np.dot(x, Wout)\n",
        "    return y"
      ],
      "metadata": {
        "id": "KeDMX6UwS3Sh"
      },
      "execution_count": null,
      "outputs": []
    },
    {
      "cell_type": "code",
      "source": [
        "y_pred = predict(x_test_transformed)\n",
        "correct = 0\n",
        "total = y_pred.shape[0]\n",
        "for i in range(total):\n",
        "    predicted = np.argmax(y_pred[i])\n",
        "    # test = np.argmax(y_test[i])\n",
        "    correct = correct + (1 if y_pred[i] == y_test[i+110] else 0)\n",
        "print('Accuracy: {:f}'.format(correct/total))"
      ],
      "metadata": {
        "colab": {
          "base_uri": "https://localhost:8080/"
        },
        "id": "KRdmoeM9Te_I",
        "outputId": "3946b6f7-3ca2-4e6e-eaf4-4c0420578ae7"
      },
      "execution_count": null,
      "outputs": [
        {
          "output_type": "stream",
          "name": "stdout",
          "text": [
            "Accuracy: 0.000000\n"
          ]
        }
      ]
    },
    {
      "cell_type": "code",
      "source": [
        "y_test"
      ],
      "metadata": {
        "colab": {
          "base_uri": "https://localhost:8080/"
        },
        "id": "atSpPNMtVFqZ",
        "outputId": "a3cb9062-ac33-4567-e760-e5cc80e644ec"
      },
      "execution_count": null,
      "outputs": [
        {
          "output_type": "execute_result",
          "data": {
            "text/plain": [
              "110   -793290.0\n",
              "111   -587270.0\n",
              "112      3979.0\n",
              "113     21863.0\n",
              "114     11156.0\n",
              "115     20762.0\n",
              "116     65207.0\n",
              "117     84073.0\n",
              "118    118660.0\n",
              "119    399113.0\n",
              "120    -44403.0\n",
              "121   -310511.0\n",
              "122   -306579.0\n",
              "123     53762.0\n",
              "124    293716.0\n",
              "125    212603.0\n",
              "126     92153.0\n",
              "127    136737.0\n",
              "128    376401.0\n",
              "129    -70048.0\n",
              "130    236882.0\n",
              "131    212217.0\n",
              "132    299483.0\n",
              "133   -331589.0\n",
              "134    -98386.0\n",
              "135     91652.0\n",
              "136    166992.0\n",
              "137    -56654.0\n",
              "Name: Target_diff, dtype: float64"
            ]
          },
          "metadata": {},
          "execution_count": 32
        }
      ]
    },
    {
      "cell_type": "code",
      "source": [
        "from sklearn.metrics import mean_squared_error, mean_absolute_error, mean_absolute_percentage_error, accuracy_score\n",
        "from sklearn.metrics import r2_score"
      ],
      "metadata": {
        "id": "BtOXb5N4Tk9P"
      },
      "execution_count": null,
      "outputs": []
    },
    {
      "cell_type": "code",
      "source": [
        "mape = mean_absolute_percentage_error(y_test, y_pred)\n",
        "print(r2_score(y_test, y_pred))\n",
        "print(sqrt(mse(y_test,y_pred)))\n",
        "mape"
      ],
      "metadata": {
        "colab": {
          "base_uri": "https://localhost:8080/"
        },
        "id": "IkkOx_oX5BHi",
        "outputId": "40b5046c-19d6-4512-d324-fb79d65f46c2"
      },
      "execution_count": null,
      "outputs": [
        {
          "output_type": "stream",
          "name": "stdout",
          "text": [
            "-1377737.417459538\n",
            "314269914.55797327\n"
          ]
        },
        {
          "output_type": "execute_result",
          "data": {
            "text/plain": [
              "6155.754296175074"
            ]
          },
          "metadata": {},
          "execution_count": 34
        }
      ]
    },
    {
      "cell_type": "code",
      "source": [
        "input_size = x_train.shape[1]"
      ],
      "metadata": {
        "id": "6Hs1R6QS5PJw"
      },
      "execution_count": null,
      "outputs": []
    },
    {
      "cell_type": "code",
      "source": [
        "hidden_size = 1000"
      ],
      "metadata": {
        "id": "M9x75N7c8cI3"
      },
      "execution_count": null,
      "outputs": []
    },
    {
      "cell_type": "code",
      "source": [
        "def relu(x):\n",
        "   return np.maximum(x, 0, x)"
      ],
      "metadata": {
        "id": "6MVWrH3z8iKm"
      },
      "execution_count": null,
      "outputs": []
    },
    {
      "cell_type": "code",
      "source": [
        "input_weights = np.random.normal(size=[input_size,hidden_size])\n",
        "biases = np.random.normal(size=[hidden_size])"
      ],
      "metadata": {
        "id": "SSAhoSKKB7zF"
      },
      "execution_count": null,
      "outputs": []
    },
    {
      "cell_type": "code",
      "source": [
        "def hidden_nodes(X):\n",
        "    G = np.dot(X, input_weights)\n",
        "    G = G + biases\n",
        "    H = relu(G)\n",
        "    return H"
      ],
      "metadata": {
        "id": "rSYBfvKA8kwf"
      },
      "execution_count": null,
      "outputs": []
    },
    {
      "cell_type": "code",
      "source": [
        "from sklearn.preprocessing import OneHotEncoder\n",
        "from sklearn.preprocessing import MinMaxScaler\n"
      ],
      "metadata": {
        "id": "rBnwi7cy8zuO"
      },
      "execution_count": null,
      "outputs": []
    },
    {
      "cell_type": "code",
      "source": [
        "import scipy\n",
        "from scipy import linalg"
      ],
      "metadata": {
        "id": "tgUBy9t39RnV"
      },
      "execution_count": null,
      "outputs": []
    },
    {
      "cell_type": "code",
      "source": [
        "from numpy import linalg"
      ],
      "metadata": {
        "id": "07qpkylD_smZ"
      },
      "execution_count": null,
      "outputs": []
    },
    {
      "cell_type": "code",
      "source": [
        "from numpy import *"
      ],
      "metadata": {
        "id": "V50MtDKIAhib"
      },
      "execution_count": null,
      "outputs": []
    },
    {
      "cell_type": "code",
      "source": [
        "from scipy import *"
      ],
      "metadata": {
        "id": "kPz8TOZoAiel"
      },
      "execution_count": null,
      "outputs": []
    },
    {
      "cell_type": "code",
      "source": [
        "output_weights = np.dot(np.linalg.pinv(hidden_nodes(x_train)), y_train)"
      ],
      "metadata": {
        "id": "hWm0fpyk8njq"
      },
      "execution_count": null,
      "outputs": []
    },
    {
      "cell_type": "code",
      "source": [
        "def predict(X):\n",
        "    out = hidden_nodes(X)\n",
        "    out = np.dot(out, output_weights)\n",
        "    return out"
      ],
      "metadata": {
        "id": "pdIq8ljl8pQc"
      },
      "execution_count": null,
      "outputs": []
    },
    {
      "cell_type": "code",
      "source": [
        "prediction = predict(x_test)\n",
        "correct = 0\n",
        "total = x_test.shape[0]\n",
        "for i in range(total):\n",
        "    predicted = prediction[i]\n",
        "    actual = y_test[i+110]\n",
        "    correct += 1 if predicted == actual else 0\n",
        "accuracy = correct/total\n",
        "print('Accuracy for ', hidden_size, ' hidden nodes: ', accuracy)"
      ],
      "metadata": {
        "colab": {
          "base_uri": "https://localhost:8080/"
        },
        "id": "dt_g84iLCCKQ",
        "outputId": "63c4737c-0fe0-4571-d5c8-041263a1cb00"
      },
      "execution_count": null,
      "outputs": [
        {
          "output_type": "stream",
          "name": "stdout",
          "text": [
            "Accuracy for  1000  hidden nodes:  0.0\n"
          ]
        }
      ]
    },
    {
      "cell_type": "code",
      "source": [
        "mape = mean_absolute_percentage_error(y_test, y_pred)\n",
        "print(r2_score(y_test, y_pred))\n",
        "print(sqrt(mse(y_test,y_pred)))\n",
        "mape"
      ],
      "metadata": {
        "colab": {
          "base_uri": "https://localhost:8080/"
        },
        "id": "6awR5qIRCG4T",
        "outputId": "dc2f2c8c-7201-44f3-81f0-0f06e633ba6c"
      },
      "execution_count": null,
      "outputs": [
        {
          "output_type": "stream",
          "name": "stdout",
          "text": [
            "-1377737.417459538\n",
            "314269914.55797327\n"
          ]
        },
        {
          "output_type": "execute_result",
          "data": {
            "text/plain": [
              "6155.754296175074"
            ]
          },
          "metadata": {},
          "execution_count": 77
        }
      ]
    },
    {
      "cell_type": "code",
      "source": [
        "def elm_train(X, y, L, w1=None):\n",
        "\n",
        "  M = np.size(X, axis=0) # Number of examples\n",
        "  N = np.size(X, axis=1) # Number of features\n",
        "\n",
        "  # If w1 is defined\n",
        "  if w1 is None:\n",
        "    w1 = np.random.uniform(low=-1, high=1, size=(L, N+1)) # Weights with bias\n",
        "\n",
        "  bias = np.ones(M).reshape(-1, 1) # Bias definition\n",
        "  Xa = np.concatenate((bias, X), axis=1) # Input with bias\n",
        "\n",
        "  S = Xa.dot(w1.T) # Weighted sum of hidden layer\n",
        "  H = np.tanh(S) # Activation function f(x) = tanh(x), dimension M X L\n",
        "\n",
        "  bias = np.ones(M).reshape(-1, 1) # Bias definition\n",
        "  Ha = np.concatenate((bias, H), axis=1) # Activation function with bias\n",
        "\n",
        "  w2 = (np.linalg.pinv(Ha).dot(y)).T # w2' = pinv(Ha)*D\n",
        "\n",
        "  y_pred = Ha.dot(w2.T) # Predictions\n",
        "\n",
        "  return y_pred, w1, w2"
      ],
      "metadata": {
        "id": "_n8G_QHHCWpM"
      },
      "execution_count": null,
      "outputs": []
    },
    {
      "cell_type": "code",
      "source": [
        "def sliding_window(serie, lag=2, step_forward=1):\n",
        "\n",
        "  M = len(serie) # Lenght of time series\n",
        "\n",
        "  X = np.zeros((M-(lag+step_forward-1), lag)) # Input definition\n",
        "  y = np.zeros((M-(lag+step_forward-1), 1)) # Target definition\n",
        "\n",
        "  cont = 0\n",
        "  posinput = lag + cont\n",
        "  posout = posinput + step_forward\n",
        "\n",
        "  i = 0\n",
        "  while posout<=M:\n",
        "\n",
        "    X[i, :] = serie[cont:posinput]\n",
        "    y[i] = serie[posout-1]\n",
        "    cont+=1\n",
        "    posinput = lag+cont\n",
        "    posout = posinput + step_forward\n",
        "    i+=1\n",
        "\n",
        "  return X, y"
      ],
      "metadata": {
        "id": "ZVpiP_fCC-ek"
      },
      "execution_count": null,
      "outputs": []
    },
    {
      "cell_type": "code",
      "source": [
        "def mse_function(Y, Y_pred):\n",
        "\n",
        "  M, C = Y.shape[0], Y.shape[1] # Number of examples (M) and number of outputs (C)\n",
        "\n",
        "  E = Y-Y_pred # Error between Y true and Y predicted\n",
        "  mse = np.sum(E.T.dot(E))/(M*C) # Mean squared error\n",
        "\n",
        "  return mse"
      ],
      "metadata": {
        "id": "BAD7mmxcDCls"
      },
      "execution_count": null,
      "outputs": []
    },
    {
      "cell_type": "code",
      "source": [
        "def minmax_normalization(X, a=0, b=1):\n",
        "\n",
        "  xmin, xmax = X.min(), X.max() # Min and max values of data\n",
        "  X_norm = a + ( (X-xmin)*(b-a)/(xmax-xmin) ) # Normalized data in a new range\n",
        "\n",
        "  return X_norm, a, b, xmin, xmax"
      ],
      "metadata": {
        "id": "54NXvpH0DJH_"
      },
      "execution_count": null,
      "outputs": []
    },
    {
      "cell_type": "code",
      "source": [
        "pip install pip==21.3.1"
      ],
      "metadata": {
        "colab": {
          "base_uri": "https://localhost:8080/"
        },
        "id": "2ftu36xMEvBb",
        "outputId": "7d4d294c-d049-4cff-bed7-692c017cc10b"
      },
      "execution_count": null,
      "outputs": [
        {
          "output_type": "stream",
          "name": "stdout",
          "text": [
            "Collecting pip==21.3.1\n",
            "  Downloading pip-21.3.1-py3-none-any.whl (1.7 MB)\n",
            "\u001b[2K     \u001b[90m━━━━━━━━━━━━━━━━━━━━━━━━━━━━━━━━━━━━━━━━\u001b[0m \u001b[32m1.7/1.7 MB\u001b[0m \u001b[31m17.5 MB/s\u001b[0m eta \u001b[36m0:00:00\u001b[0m\n",
            "\u001b[?25hInstalling collected packages: pip\n",
            "  Attempting uninstall: pip\n",
            "    Found existing installation: pip 23.1.2\n",
            "    Uninstalling pip-23.1.2:\n",
            "      Successfully uninstalled pip-23.1.2\n",
            "\u001b[31mERROR: pip's dependency resolver does not currently take into account all the packages that are installed. This behaviour is the source of the following dependency conflicts.\n",
            "pip-tools 6.13.0 requires pip>=22.2, but you have pip 21.3.1 which is incompatible.\u001b[0m\u001b[31m\n",
            "\u001b[0mSuccessfully installed pip-21.3.1\n"
          ]
        }
      ]
    },
    {
      "cell_type": "code",
      "source": [
        "!pip install elm"
      ],
      "metadata": {
        "colab": {
          "base_uri": "https://localhost:8080/"
        },
        "id": "HnO-8Qw6EIsA",
        "outputId": "0b45c4d4-ca12-4bc3-ff27-72a65c506723"
      },
      "execution_count": null,
      "outputs": [
        {
          "output_type": "stream",
          "name": "stdout",
          "text": [
            "Collecting elm\n",
            "  Using cached elm-0.1.3-py2.py3-none-any.whl (19 kB)\n",
            "Collecting numpy==1.15.4\n",
            "  Using cached numpy-1.15.4.zip (4.5 MB)\n",
            "  Preparing metadata (setup.py) ... \u001b[?25l\u001b[?25hdone\n",
            "Collecting deap==1.2.2\n",
            "  Using cached deap-1.2.2.tar.gz (936 kB)\n",
            "  Preparing metadata (setup.py) ... \u001b[?25l\u001b[?25herror\n",
            "\u001b[33mWARNING: Discarding https://files.pythonhosted.org/packages/af/29/e7f2ecbe02997b16a768baed076f5fc4781d7057cd5d9adf7c94027845ba/deap-1.2.2.tar.gz#sha256=95c63e66d755ec206c80fdb2908851c0bef420ee8651ad7be4f0578e9e909bcf (from https://pypi.org/simple/deap/). Command errored out with exit status 1: python setup.py egg_info Check the logs for full command output.\u001b[0m\n",
            "Collecting elm\n",
            "  Downloading elm-0.1.1.tar.gz (75 kB)\n",
            "     |████████████████████████████████| 75 kB 1.2 MB/s            \n",
            "\u001b[?25h  Preparing metadata (setup.py) ... \u001b[?25l\u001b[?25hdone\n",
            "Requirement already satisfied: numpy>=1.9.1 in /usr/local/lib/python3.10/dist-packages (from elm) (1.23.5)\n",
            "Collecting deap>=1.0.1\n",
            "  Downloading deap-1.4.1-cp310-cp310-manylinux_2_5_x86_64.manylinux1_x86_64.manylinux_2_17_x86_64.manylinux2014_x86_64.whl (135 kB)\n",
            "     |████████████████████████████████| 135 kB 7.7 MB/s            \n",
            "\u001b[?25hCollecting optunity<=1.0.2\n",
            "  Downloading Optunity-1.0.1.tar.gz (478 kB)\n",
            "     |████████████████████████████████| 478 kB 53.6 MB/s            \n",
            "\u001b[?25h  Preparing metadata (setup.py) ... \u001b[?25l\u001b[?25hdone\n",
            "Building wheels for collected packages: elm, optunity\n",
            "  Building wheel for elm (setup.py) ... \u001b[?25l\u001b[?25hdone\n",
            "  Created wheel for elm: filename=elm-0.1.1-py2.py3-none-any.whl size=19132 sha256=6440f205abae2d7a2669a81723baf9f1baaa07b8fb3012788e4d867febdc8087\n",
            "  Stored in directory: /root/.cache/pip/wheels/be/18/6b/ae7b8ec91f0e480c45f107fd2ff6185d1bf589fb50c7dd61d6\n",
            "  Building wheel for optunity (setup.py) ... \u001b[?25l\u001b[?25hdone\n",
            "  Created wheel for optunity: filename=Optunity-1.0.1-py3-none-any.whl size=55817 sha256=afc96646a81a848c9fcd1111c24cf18b9eeb32aa3152056bbe6af49385145dcb\n",
            "  Stored in directory: /root/.cache/pip/wheels/17/4d/38/27da0589be30d27094523e75d6d2db91725f72f76c1fdff9af\n",
            "Successfully built elm optunity\n",
            "Installing collected packages: optunity, deap, elm\n",
            "Successfully installed deap-1.4.1 elm-0.1.1 optunity-1.0.1\n",
            "\u001b[33mWARNING: Running pip as the 'root' user can result in broken permissions and conflicting behaviour with the system package manager. It is recommended to use a virtual environment instead: https://pip.pypa.io/warnings/venv\u001b[0m\n"
          ]
        }
      ]
    },
    {
      "cell_type": "code",
      "source": [
        "from sklearn.cluster import k_means\n",
        "import elm\n",
        "# from elm import ELMClassifier, ELMRegressor, GenELMClassifier, GenELMRegressor\n",
        "# from random_layer import RandomLayer, MLPRandomLayer, RBFRandomLayer, GRBFRandomLayer\n",
        "from sklearn.neighbors import KDTree\n",
        "from sklearn.pipeline import Pipeline\n",
        "from sklearn.linear_model import Ridge"
      ],
      "metadata": {
        "id": "n6G9XcwlEBrn"
      },
      "execution_count": null,
      "outputs": []
    },
    {
      "cell_type": "code",
      "source": [
        "elmk = elm.ELMKernel(params)"
      ],
      "metadata": {
        "colab": {
          "base_uri": "https://localhost:8080/",
          "height": 175
        },
        "id": "7rdiCF6VGI0V",
        "outputId": "44ae5997-3f80-45ae-da83-1f40e46eb70a"
      },
      "execution_count": null,
      "outputs": [
        {
          "output_type": "error",
          "ename": "NameError",
          "evalue": "ignored",
          "traceback": [
            "\u001b[0;31m---------------------------------------------------------------------------\u001b[0m",
            "\u001b[0;31mNameError\u001b[0m                                 Traceback (most recent call last)",
            "\u001b[0;32m<ipython-input-94-335a440d4b0b>\u001b[0m in \u001b[0;36m<cell line: 1>\u001b[0;34m()\u001b[0m\n\u001b[0;32m----> 1\u001b[0;31m \u001b[0melmk\u001b[0m \u001b[0;34m=\u001b[0m \u001b[0melm\u001b[0m\u001b[0;34m.\u001b[0m\u001b[0mELMKernel\u001b[0m\u001b[0;34m(\u001b[0m\u001b[0mparams\u001b[0m\u001b[0;34m)\u001b[0m\u001b[0;34m\u001b[0m\u001b[0;34m\u001b[0m\u001b[0m\n\u001b[0m",
            "\u001b[0;31mNameError\u001b[0m: name 'params' is not defined"
          ]
        }
      ]
    },
    {
      "cell_type": "code",
      "source": [
        "from sklearn import pipeline\n",
        "import matplotlib.pyplot as plt\n",
        "#parameters\n",
        "n_hidden = 500\n",
        "alpha = 0.7\n",
        "rbf_width = 0.1\n",
        "activation_func = 'sigmoid'\n",
        "regressor = None\n",
        "random_state = 0\n",
        "ridge_alpha = 0.001\n",
        "rl = RandomLayer( n_hidden = n_hidden, alpha = alpha,\n",
        "    rbf_width = rbf_width, activation_func = activation_func )\n",
        "\n",
        "ridge = Ridge( alpha = ridge_alpha )\n",
        "\n",
        "elmr = pipeline.Pipeline( [( 'rl', rl ), ( 'ridge', ridge )] )\n",
        "\n",
        "elmr.fit( x_train, y_train )\n",
        "#p = elmr.predict( x_test )\n",
        "print (\"Training Score: \",elmr.score(x_train, y_train),\"Testing Score: \", -elmr.score(x_test, y_test))"
      ],
      "metadata": {
        "id": "XLpSFFbvDMt0"
      },
      "execution_count": null,
      "outputs": []
    },
    {
      "cell_type": "code",
      "source": [
        "!pip install sklearn_extensions"
      ],
      "metadata": {
        "colab": {
          "base_uri": "https://localhost:8080/"
        },
        "id": "X3uYJgmxIEn2",
        "outputId": "8092e12e-60c4-484e-e128-83c8153758b2"
      },
      "execution_count": null,
      "outputs": [
        {
          "output_type": "stream",
          "name": "stdout",
          "text": [
            "Collecting sklearn_extensions\n",
            "  Downloading sklearn-extensions-0.0.2.tar.gz (19 kB)\n",
            "  Preparing metadata (setup.py) ... \u001b[?25l\u001b[?25hdone\n",
            "Requirement already satisfied: numpy>=1.9.0 in /usr/local/lib/python3.10/dist-packages (from sklearn_extensions) (1.23.5)\n",
            "Requirement already satisfied: scikit-learn>=0.15 in /usr/local/lib/python3.10/dist-packages (from sklearn_extensions) (1.2.2)\n",
            "Requirement already satisfied: scipy>=0.16.0 in /usr/local/lib/python3.10/dist-packages (from sklearn_extensions) (1.11.3)\n",
            "Requirement already satisfied: joblib>=1.1.1 in /usr/local/lib/python3.10/dist-packages (from scikit-learn>=0.15->sklearn_extensions) (1.3.2)\n",
            "Requirement already satisfied: threadpoolctl>=2.0.0 in /usr/local/lib/python3.10/dist-packages (from scikit-learn>=0.15->sklearn_extensions) (3.2.0)\n",
            "Building wheels for collected packages: sklearn-extensions\n",
            "  Building wheel for sklearn-extensions (setup.py) ... \u001b[?25l\u001b[?25hdone\n",
            "  Created wheel for sklearn-extensions: filename=sklearn_extensions-0.0.2-py2.py3-none-any.whl size=24563 sha256=d2108c99729437b35278b4fa4fd1bf11f803eaab0c71016c30a9768c68cc9072\n",
            "  Stored in directory: /root/.cache/pip/wheels/ce/1c/74/03c0ce66c802eea0d2bd6aaa354ff27ea9a0b6aeed096ef0ac\n",
            "Successfully built sklearn-extensions\n",
            "Installing collected packages: sklearn-extensions\n",
            "Successfully installed sklearn-extensions-0.0.2\n",
            "\u001b[33mWARNING: Running pip as the 'root' user can result in broken permissions and conflicting behaviour with the system package manager. It is recommended to use a virtual environment instead: https://pip.pypa.io/warnings/venv\u001b[0m\n"
          ]
        }
      ]
    },
    {
      "cell_type": "code",
      "source": [
        "from abc import ABCMeta, abstractmethod\n",
        "\n",
        "from sklearn.utils import as_float_array\n",
        "from sklearn.utils.extmath import safe_sparse_dot\n",
        "from sklearn.base import BaseEstimator, ClassifierMixin, RegressorMixin\n",
        "from sklearn.preprocessing import LabelBinarizer\n",
        "\n",
        "from sklearn_extensions.extreme_learning_machines.random_layer import RandomLayer, MLPRandomLayer\n",
        "\n",
        "__all__ = [\"ELMRegressor\", \"ELMClassifier\", \"GenELMRegressor\", \"GenELMClassifier\"]"
      ],
      "metadata": {
        "colab": {
          "base_uri": "https://localhost:8080/",
          "height": 529
        },
        "id": "QKmheQu8D9sf",
        "outputId": "4de652cf-6c79-4d79-b8e1-9bb808c2b37f"
      },
      "execution_count": null,
      "outputs": [
        {
          "output_type": "error",
          "ename": "ImportError",
          "evalue": "ignored",
          "traceback": [
            "\u001b[0;31m---------------------------------------------------------------------------\u001b[0m",
            "\u001b[0;31mImportError\u001b[0m                               Traceback (most recent call last)",
            "\u001b[0;32m<ipython-input-99-e66391f4d265>\u001b[0m in \u001b[0;36m<cell line: 8>\u001b[0;34m()\u001b[0m\n\u001b[1;32m      6\u001b[0m \u001b[0;32mfrom\u001b[0m \u001b[0msklearn\u001b[0m\u001b[0;34m.\u001b[0m\u001b[0mpreprocessing\u001b[0m \u001b[0;32mimport\u001b[0m \u001b[0mLabelBinarizer\u001b[0m\u001b[0;34m\u001b[0m\u001b[0;34m\u001b[0m\u001b[0m\n\u001b[1;32m      7\u001b[0m \u001b[0;34m\u001b[0m\u001b[0m\n\u001b[0;32m----> 8\u001b[0;31m \u001b[0;32mfrom\u001b[0m \u001b[0msklearn_extensions\u001b[0m\u001b[0;34m.\u001b[0m\u001b[0mextreme_learning_machines\u001b[0m\u001b[0;34m.\u001b[0m\u001b[0mrandom_layer\u001b[0m \u001b[0;32mimport\u001b[0m \u001b[0mRandomLayer\u001b[0m\u001b[0;34m,\u001b[0m \u001b[0mMLPRandomLayer\u001b[0m\u001b[0;34m\u001b[0m\u001b[0;34m\u001b[0m\u001b[0m\n\u001b[0m\u001b[1;32m      9\u001b[0m \u001b[0;34m\u001b[0m\u001b[0m\n\u001b[1;32m     10\u001b[0m \u001b[0m__all__\u001b[0m \u001b[0;34m=\u001b[0m \u001b[0;34m[\u001b[0m\u001b[0;34m\"ELMRegressor\"\u001b[0m\u001b[0;34m,\u001b[0m \u001b[0;34m\"ELMClassifier\"\u001b[0m\u001b[0;34m,\u001b[0m \u001b[0;34m\"GenELMRegressor\"\u001b[0m\u001b[0;34m,\u001b[0m \u001b[0;34m\"GenELMClassifier\"\u001b[0m\u001b[0;34m]\u001b[0m\u001b[0;34m\u001b[0m\u001b[0;34m\u001b[0m\u001b[0m\n",
            "\u001b[0;32m/usr/local/lib/python3.10/dist-packages/sklearn_extensions/extreme_learning_machines/__init__.py\u001b[0m in \u001b[0;36m<module>\u001b[0;34m\u001b[0m\n\u001b[0;32m----> 1\u001b[0;31m \u001b[0;32mfrom\u001b[0m \u001b[0msklearn_extensions\u001b[0m\u001b[0;34m.\u001b[0m\u001b[0mextreme_learning_machines\u001b[0m\u001b[0;34m.\u001b[0m\u001b[0melm\u001b[0m \u001b[0;32mimport\u001b[0m \u001b[0mELMClassifier\u001b[0m\u001b[0;34m,\u001b[0m \u001b[0mELMRegressor\u001b[0m\u001b[0;34m,\u001b[0m \u001b[0mGenELMClassifier\u001b[0m\u001b[0;34m,\u001b[0m \u001b[0mGenELMRegressor\u001b[0m\u001b[0;34m\u001b[0m\u001b[0;34m\u001b[0m\u001b[0m\n\u001b[0m\u001b[1;32m      2\u001b[0m \u001b[0;32mfrom\u001b[0m \u001b[0msklearn_extensions\u001b[0m\u001b[0;34m.\u001b[0m\u001b[0mextreme_learning_machines\u001b[0m\u001b[0;34m.\u001b[0m\u001b[0mrandom_layer\u001b[0m \u001b[0;32mimport\u001b[0m \u001b[0mRBFRandomLayer\u001b[0m\u001b[0;34m,\u001b[0m \u001b[0mMLPRandomLayer\u001b[0m\u001b[0;34m,\u001b[0m \u001b[0mGRBFRandomLayer\u001b[0m\u001b[0;34m,\u001b[0m \u001b[0mRandomLayer\u001b[0m\u001b[0;34m\u001b[0m\u001b[0;34m\u001b[0m\u001b[0m\n\u001b[1;32m      3\u001b[0m \u001b[0;34m\u001b[0m\u001b[0m\n\u001b[1;32m      4\u001b[0m __all__ = [\n\u001b[1;32m      5\u001b[0m     \u001b[0;34m'ELMRegressor'\u001b[0m\u001b[0;34m,\u001b[0m\u001b[0;34m\u001b[0m\u001b[0;34m\u001b[0m\u001b[0m\n",
            "\u001b[0;32m/usr/local/lib/python3.10/dist-packages/sklearn_extensions/extreme_learning_machines/elm.py\u001b[0m in \u001b[0;36m<module>\u001b[0;34m\u001b[0m\n\u001b[1;32m     26\u001b[0m \u001b[0;34m\u001b[0m\u001b[0m\n\u001b[1;32m     27\u001b[0m \u001b[0;32mimport\u001b[0m \u001b[0mnumpy\u001b[0m \u001b[0;32mas\u001b[0m \u001b[0mnp\u001b[0m\u001b[0;34m\u001b[0m\u001b[0;34m\u001b[0m\u001b[0m\n\u001b[0;32m---> 28\u001b[0;31m \u001b[0;32mfrom\u001b[0m \u001b[0mscipy\u001b[0m\u001b[0;34m.\u001b[0m\u001b[0mlinalg\u001b[0m \u001b[0;32mimport\u001b[0m \u001b[0mpinv2\u001b[0m\u001b[0;34m\u001b[0m\u001b[0;34m\u001b[0m\u001b[0m\n\u001b[0m\u001b[1;32m     29\u001b[0m \u001b[0;34m\u001b[0m\u001b[0m\n\u001b[1;32m     30\u001b[0m \u001b[0;32mfrom\u001b[0m \u001b[0msklearn\u001b[0m\u001b[0;34m.\u001b[0m\u001b[0mutils\u001b[0m \u001b[0;32mimport\u001b[0m \u001b[0mas_float_array\u001b[0m\u001b[0;34m\u001b[0m\u001b[0;34m\u001b[0m\u001b[0m\n",
            "\u001b[0;31mImportError\u001b[0m: cannot import name 'pinv2' from 'scipy.linalg' (/usr/local/lib/python3.10/dist-packages/scipy/linalg/__init__.py)",
            "",
            "\u001b[0;31m---------------------------------------------------------------------------\u001b[0;32m\nNOTE: If your import is failing due to a missing package, you can\nmanually install dependencies using either !pip or !apt.\n\nTo view examples of installing some common dependencies, click the\n\"Open Examples\" button below.\n\u001b[0;31m---------------------------------------------------------------------------\u001b[0m\n"
          ],
          "errorDetails": {
            "actions": [
              {
                "action": "open_url",
                "actionText": "Open Examples",
                "url": "/notebooks/snippets/importing_libraries.ipynb"
              }
            ]
          }
        }
      ]
    },
    {
      "cell_type": "code",
      "source": [
        "!pip install skelm"
      ],
      "metadata": {
        "colab": {
          "base_uri": "https://localhost:8080/"
        },
        "id": "1AQKulLlKHep",
        "outputId": "fac85532-beec-4ac7-d144-e0e59043ad31"
      },
      "execution_count": null,
      "outputs": [
        {
          "output_type": "stream",
          "name": "stdout",
          "text": [
            "\u001b[31mERROR: Could not find a version that satisfies the requirement skelm (from versions: none)\u001b[0m\n",
            "\u001b[31mERROR: No matching distribution found for skelm\u001b[0m\n"
          ]
        }
      ]
    },
    {
      "cell_type": "code",
      "source": [
        "pip install scikit-elm"
      ],
      "metadata": {
        "colab": {
          "base_uri": "https://localhost:8080/"
        },
        "id": "P5lYx1CnKEUv",
        "outputId": "043bd229-cead-4758-8446-b3ce29238929"
      },
      "execution_count": null,
      "outputs": [
        {
          "output_type": "stream",
          "name": "stdout",
          "text": [
            "Collecting scikit-elm\n",
            "  Downloading scikit_elm-0.21a0-py3-none-any.whl (30 kB)\n",
            "Requirement already satisfied: scipy in /usr/local/lib/python3.10/dist-packages (from scikit-elm) (1.11.3)\n",
            "Requirement already satisfied: numpy in /usr/local/lib/python3.10/dist-packages (from scikit-elm) (1.23.5)\n",
            "Requirement already satisfied: scikit-learn in /usr/local/lib/python3.10/dist-packages (from scikit-elm) (1.2.2)\n",
            "Requirement already satisfied: threadpoolctl>=2.0.0 in /usr/local/lib/python3.10/dist-packages (from scikit-learn->scikit-elm) (3.2.0)\n",
            "Requirement already satisfied: joblib>=1.1.1 in /usr/local/lib/python3.10/dist-packages (from scikit-learn->scikit-elm) (1.3.2)\n",
            "Installing collected packages: scikit-elm\n",
            "Successfully installed scikit-elm-0.21a0\n",
            "\u001b[33mWARNING: Running pip as the 'root' user can result in broken permissions and conflicting behaviour with the system package manager. It is recommended to use a virtual environment instead: https://pip.pypa.io/warnings/venv\u001b[0m\n"
          ]
        }
      ]
    },
    {
      "cell_type": "code",
      "source": [
        "from skelm import ELMClassifier\n",
        "model = ELMClassifier().fit(x_train[y_train <= 5], y_train[y_train <= 5])"
      ],
      "metadata": {
        "id": "RWbzzBxQIBJ1"
      },
      "execution_count": null,
      "outputs": []
    },
    {
      "cell_type": "code",
      "source": [
        "yh_test = model.predict(x_test)\n",
        "from sklearn.metrics import confusion_matrix\n",
        "import seaborn as sn\n",
        "cm = confusion_matrix(y_test, yh_test)\n",
        "ax = sn.heatmap(cm, annot=True, cbar=False)\n",
        "ax.set(ylabel=\"True digit\", xlabel=\"Predicted digit\")\n",
        "\n"
      ],
      "metadata": {
        "colab": {
          "base_uri": "https://localhost:8080/",
          "height": 487
        },
        "id": "aLc5C1QeJixL",
        "outputId": "fa4c4be9-aa28-4e34-b3c1-affb4f1ae1d9"
      },
      "execution_count": null,
      "outputs": [
        {
          "output_type": "execute_result",
          "data": {
            "text/plain": [
              "[Text(50.722222222222214, 0.5, 'True digit'),\n",
              " Text(0.5, 23.52222222222222, 'Predicted digit')]"
            ]
          },
          "metadata": {},
          "execution_count": 116
        },
        {
          "output_type": "display_data",
          "data": {
            "text/plain": [
              "<Figure size 640x480 with 1 Axes>"
            ],
            "image/png": "[encoded data removed]"
          },
          "metadata": {}
        }
      ]
    },
    {
      "cell_type": "code",
      "source": [
        "mape = mean_absolute_percentage_error(y_test, yh_test)\n",
        "print(r2_score(y_test, yh_test))\n",
        "print(sqrt(mse(y_test,yh_test)))\n",
        "mape"
      ],
      "metadata": {
        "colab": {
          "base_uri": "https://localhost:8080/"
        },
        "id": "hpHxsfcIKo_I",
        "outputId": "e4997035-cb06-4bee-dbc4-af334d46dbd1"
      },
      "execution_count": null,
      "outputs": [
        {
          "output_type": "stream",
          "name": "stdout",
          "text": [
            "-0.3091276481108156\n",
            "306344.73496320867\n"
          ]
        },
        {
          "output_type": "execute_result",
          "data": {
            "text/plain": [
              "4.842536579391977"
            ]
          },
          "metadata": {},
          "execution_count": 117
        }
      ]
    },
    {
      "cell_type": "code",
      "source": [
        "model.partial_fit(x_train[y_train > 5], y_train[y_train > 5], update_classes=True)\n",
        "yh2_test = model.predict(x_test)\n",
        "cm2 = confusion_matrix(y_test, yh2_test)\n",
        "ax = sn.heatmap(cm2, annot=True, cbar=False)\n",
        "ax.set(ylabel=\"True digit\", xlabel=\"Predicted digit\")"
      ],
      "metadata": {
        "colab": {
          "base_uri": "https://localhost:8080/",
          "height": 489
        },
        "id": "WO-_bK7iK3aj",
        "outputId": "035363c5-f740-4c3d-bb52-b5379ecba2f7"
      },
      "execution_count": null,
      "outputs": [
        {
          "output_type": "execute_result",
          "data": {
            "text/plain": [
              "[Text(50.722222222222214, 0.5, 'True digit'),\n",
              " Text(0.5, 23.52222222222222, 'Predicted digit')]"
            ]
          },
          "metadata": {},
          "execution_count": 120
        },
        {
          "output_type": "display_data",
          "data": {
            "text/plain": [
              "<Figure size 640x480 with 1 Axes>"
            ],
            "image/png": "[encoded data removed]"
          },
          "metadata": {}
        }
      ]
    },
    {
      "cell_type": "code",
      "source": [],
      "metadata": {
        "id": "0hfqhAVXLcQt"
      },
      "execution_count": null,
      "outputs": []
    },
    {
      "cell_type": "code",
      "source": [
        "mape = mean_absolute_percentage_error(y_test, yh2_test)\n",
        "print(r2_score(y_test, yh2_test))\n",
        "print(sqrt(mse(y_test,yh2_test)))\n",
        "mape"
      ],
      "metadata": {
        "colab": {
          "base_uri": "https://localhost:8080/"
        },
        "outputId": "51997f1b-e43c-4a3c-cdb8-3fb06d0e2b4d",
        "id": "slIibEotLkZx"
      },
      "execution_count": null,
      "outputs": [
        {
          "output_type": "stream",
          "name": "stdout",
          "text": [
            "-0.03231392066681571\n",
            "272035.3326933969\n"
          ]
        },
        {
          "output_type": "execute_result",
          "data": {
            "text/plain": [
              "1.5547788444583905"
            ]
          },
          "metadata": {},
          "execution_count": 121
        }
      ]
    },
    {
      "cell_type": "code",
      "source": [
        "import numpy as np\n",
        "from scipy.linalg import pinv, inv\n",
        "import time"
      ],
      "metadata": {
        "id": "uKJNRymvLlyp"
      },
      "execution_count": null,
      "outputs": []
    },
    {
      "cell_type": "code",
      "source": [
        "class elm():\n",
        "    '''\n",
        "    Function: elm class init\n",
        "    -------------------\n",
        "    Parameters:\n",
        "    shape: list, shape[hidden units, output units]\n",
        "        numbers of hidden units and output units\n",
        "    activation_function: str, 'sigmoid', 'relu', 'sin', 'tanh' or 'leaky_relu'\n",
        "        Activation function of neurals\n",
        "    x: array, shape[samples, features]\n",
        "        train data\n",
        "    y: array, shape[samples, ]\n",
        "        labels\n",
        "    C: float\n",
        "        regularization parameter\n",
        "    elm_type: str, 'clf' or 'reg'\n",
        "        'clf' means ELM solve classification problems, 'reg' means ELM solve regression problems.\n",
        "    one_hot: bool, Ture or False, default True\n",
        "        The parameter is useful only when elm_type == 'clf'. If the labels need to transformed to\n",
        "        one_hot, this parameter is set to be True\n",
        "    random_type: str, 'uniform' or 'normal', default:'normal'\n",
        "        Weight initialization method\n",
        "    '''\n",
        "    def __init__(self, hidden_units, activation_function,  x, y, C, elm_type, one_hot=True, random_type='normal'):\n",
        "        self.hidden_units = hidden_units\n",
        "        self.activation_function = activation_function\n",
        "        self.random_type = random_type\n",
        "        self.x = x\n",
        "        self.y = y\n",
        "        self.C = C\n",
        "        self.class_num = np.unique(self.y).shape[0]\n",
        "        self.beta = np.zeros((self.hidden_units, self.class_num))\n",
        "        self.elm_type = elm_type\n",
        "        self.one_hot = one_hot\n",
        "\n",
        "        # if classification problem and one_hot == True\n",
        "        if elm_type == 'clf' and self.one_hot:\n",
        "            self.one_hot_label = np.zeros((self.y.shape[0], self.class_num))\n",
        "            for i in range(self.y.shape[0]):\n",
        "                self.one_hot_label[i, int(self.y[i])] = 1\n",
        "\n",
        "        # Randomly generate the weight matrix and bias vector from input to hidden layer\n",
        "        # 'uniform': uniform distribution\n",
        "        # 'normal': normal distribution\n",
        "        if self.random_type == 'uniform':\n",
        "            self.W = np.random.uniform(low=0, high=1, size=(self.hidden_units, self.x.shape[1]))\n",
        "            self.b = np.random.uniform(low=0, high=1, size=(self.hidden_units, 1))\n",
        "        if self.random_type == 'normal':\n",
        "            self.W = np.random.normal(loc=0, scale=0.5, size=(self.hidden_units, self.x.shape[1]))\n",
        "            self.b = np.random.normal(loc=0, scale=0.5, size=(self.hidden_units, 1))\n",
        "\n",
        "    # compute the output of hidden layer according to different activation function\n",
        "    def __input2hidden(self, x):\n",
        "        self.temH = np.dot(self.W, x.T) + self.b\n",
        "\n",
        "        if self.activation_function == 'sigmoid':\n",
        "            self.H = 1/(1 + np.exp(- self.temH))\n",
        "\n",
        "        if self.activation_function == 'relu':\n",
        "            self.H = self.temH * (self.temH > 0)\n",
        "\n",
        "        if self.activation_function == 'sin':\n",
        "            self.H = np.sin(self.temH)\n",
        "\n",
        "        if self.activation_function == 'tanh':\n",
        "            self.H = (np.exp(self.temH) - np.exp(-self.temH))/(np.exp(self.temH) + np.exp(-self.temH))\n",
        "\n",
        "        if self.activation_function == 'leaky_relu':\n",
        "            self.H = np.maximum(0, self.temH) + 0.1 * np.minimum(0, self.temH)\n",
        "\n",
        "        return self.H\n",
        "\n",
        "    # compute the output\n",
        "    def __hidden2output(self, H):\n",
        "        self.output = np.dot(H.T, self.beta)\n",
        "        return self.output\n",
        "\n",
        "    '''\n",
        "    Function: Train the model, compute beta matrix, the weight matrix from hidden layer to output layer\n",
        "    ------------------\n",
        "    Parameter:\n",
        "    algorithm: str, 'no_re', 'solution1' or 'solution2'\n",
        "        The algorithm to compute beta matrix\n",
        "    ------------------\n",
        "    Return:\n",
        "    beta: array\n",
        "        the weight matrix from hidden layer to output layer\n",
        "    train_score: float\n",
        "        the accuracy or RMSE\n",
        "    train_time: str\n",
        "        time of computing beta\n",
        "    '''\n",
        "    def fit(self, algorithm):\n",
        "        self.time1 = time.clock()   # compute running time\n",
        "        self.H = self.__input2hidden(self.x)\n",
        "        if self.elm_type == 'clf':\n",
        "            if self.one_hot:\n",
        "                self.y_temp = self.one_hot_label\n",
        "            else:\n",
        "                self.y_temp = self.y\n",
        "        if self.elm_type == 'reg':\n",
        "            self.y_temp = self.y\n",
        "        # no regularization\n",
        "        if algorithm == 'no_re':\n",
        "            self.beta = np.dot(pinv2(self.H.T), self.y_temp)\n",
        "        # faster algorithm 1\n",
        "        if algorithm == 'solution1':\n",
        "            self.tmp1 = inv(np.eye(self.H.shape[0])/self.C + np.dot(self.H, self.H.T))\n",
        "            self.tmp2 = np.dot(self.tmp1, self.H)\n",
        "            self.beta = np.dot(self.tmp2, self.y_temp)\n",
        "        # faster algorithm 2\n",
        "        if algorithm == 'solution2':\n",
        "            self.tmp1 = inv(np.eye(self.H.shape[0])/self.C + np.dot(self.H, self.H.T))\n",
        "            self.tmp2 = np.dot(self.H.T, self.tmp1)\n",
        "            self.beta = np.dot(self.tmp2.T, self.y_temp)\n",
        "        self.time2 = time.clock()\n",
        "\n",
        "        # compute the results\n",
        "        self.result = self.__hidden2output(self.H)\n",
        "        # If the problem if classification problem, the output is softmax\n",
        "        if self.elm_type == 'clf':\n",
        "            self.result = np.exp(self.result)/np.sum(np.exp(self.result), axis=1).reshape(-1, 1)\n",
        "\n",
        "        # Evaluate training results\n",
        "        # If problem is classification, compute the accuracy\n",
        "        # If problem is regression, compute the RMSE\n",
        "        if self.elm_type == 'clf':\n",
        "            self.y_ = np.where(self.result == np.max(self.result, axis=1).reshape(-1, 1))[1]\n",
        "            self.correct = 0\n",
        "            for i in range(self.y.shape[0]):\n",
        "                if self.y_[i] == self.y[i]:\n",
        "                    self.correct += 1\n",
        "            self.train_score = self.correct/self.y.shape[0]\n",
        "        if self.elm_type == 'reg':\n",
        "            self.train_score = np.sqrt(np.sum((self.result - self.y) * (self.result - self.y))/self.y.shape[0])\n",
        "        train_time = str(self.time2 - self.time1)\n",
        "        return self.beta, self.train_score, train_time\n",
        "\n",
        "    '''\n",
        "    Function: compute the result given data\n",
        "    ---------------\n",
        "    Parameters:\n",
        "    x: array, shape[samples, features]\n",
        "    ---------------\n",
        "    Return:\n",
        "    y_: array\n",
        "        predicted results\n",
        "    '''\n",
        "    def predict(self, x):\n",
        "        self.H = self.__input2hidden(x)\n",
        "        self.y_ = self.__hidden2output(self.H)\n",
        "        if self.elm_type == 'clf':\n",
        "            self.y_ = np.where(self.y_ == np.max(self.y_, axis=1).reshape(-1, 1))[1]\n",
        "\n",
        "        return self.y_\n",
        "\n",
        "    '''\n",
        "    Function: compute accuracy or RMSE given data and labels\n",
        "    -------------\n",
        "    Parameters:\n",
        "    x: array, shape[samples, features]\n",
        "    y: array, shape[samples, ]\n",
        "    -------------\n",
        "    Return:\n",
        "    test_score: float, accuracy or RMSE\n",
        "    '''\n",
        "    def score(self, x, y):\n",
        "        self.prediction = self.predict(x)\n",
        "        if self.elm_type == 'clf':\n",
        "            self.correct = 0\n",
        "            for i in range(y.shape[0]):\n",
        "                if self.prediction[i] == y[i]:\n",
        "                    self.correct += 1\n",
        "            self.test_score = self.correct/y.shape[0]\n",
        "        if self.elm_type == 'reg':\n",
        "            self.test_score = np.sqrt(np.sum((self.result - self.y) * (self.result - self.y))/self.y.shape[0])\n",
        "\n",
        "        return self.test_score"
      ],
      "metadata": {
        "id": "d5o7_b4OL7Dg"
      },
      "execution_count": null,
      "outputs": []
    },
    {
      "cell_type": "code",
      "source": [
        "import elm"
      ],
      "metadata": {
        "id": "i4QBox_MNTHx"
      },
      "execution_count": null,
      "outputs": []
    },
    {
      "cell_type": "code",
      "source": [
        "model = elm.elm(hidden_units=32, activation_function='relu', random_type='normal', x=x_train, y=y_train, C=0.1, elm_type='clf')\n",
        "beta, train_accuracy, running_time = model.fit('solution2')\n",
        "print(\"classifier beta:\\n\", beta)\n",
        "print(\"classifier train accuracy:\", train_accuracy)\n",
        "print('classifier running time:', running_time)\n",
        "\n",
        "# test\n",
        "prediction = model.predict(x_test)\n",
        "print(\"classifier test prediction:\", prediction)\n",
        "print('classifier test accuracy:', model.score(x_test, y_test))"
      ],
      "metadata": {
        "colab": {
          "base_uri": "https://localhost:8080/",
          "height": 262
        },
        "id": "sS-ahk6ENv3Q",
        "outputId": "9682935d-aac5-44e5-dc5f-ed919f2be95e"
      },
      "execution_count": null,
      "outputs": [
        {
          "output_type": "error",
          "ename": "AttributeError",
          "evalue": "ignored",
          "traceback": [
            "\u001b[0;31m---------------------------------------------------------------------------\u001b[0m",
            "\u001b[0;31mAttributeError\u001b[0m                            Traceback (most recent call last)",
            "\u001b[0;32m<ipython-input-131-856245168cbe>\u001b[0m in \u001b[0;36m<cell line: 1>\u001b[0;34m()\u001b[0m\n\u001b[0;32m----> 1\u001b[0;31m \u001b[0mmodel\u001b[0m \u001b[0;34m=\u001b[0m \u001b[0melm\u001b[0m\u001b[0;34m.\u001b[0m\u001b[0melm\u001b[0m\u001b[0;34m(\u001b[0m\u001b[0mhidden_units\u001b[0m\u001b[0;34m=\u001b[0m\u001b[0;36m32\u001b[0m\u001b[0;34m,\u001b[0m \u001b[0mactivation_function\u001b[0m\u001b[0;34m=\u001b[0m\u001b[0;34m'relu'\u001b[0m\u001b[0;34m,\u001b[0m \u001b[0mrandom_type\u001b[0m\u001b[0;34m=\u001b[0m\u001b[0;34m'normal'\u001b[0m\u001b[0;34m,\u001b[0m \u001b[0mx\u001b[0m\u001b[0;34m=\u001b[0m\u001b[0mx_train\u001b[0m\u001b[0;34m,\u001b[0m \u001b[0my\u001b[0m\u001b[0;34m=\u001b[0m\u001b[0my_train\u001b[0m\u001b[0;34m,\u001b[0m \u001b[0mC\u001b[0m\u001b[0;34m=\u001b[0m\u001b[0;36m0.1\u001b[0m\u001b[0;34m,\u001b[0m \u001b[0melm_type\u001b[0m\u001b[0;34m=\u001b[0m\u001b[0;34m'clf'\u001b[0m\u001b[0;34m)\u001b[0m\u001b[0;34m\u001b[0m\u001b[0;34m\u001b[0m\u001b[0m\n\u001b[0m\u001b[1;32m      2\u001b[0m \u001b[0mbeta\u001b[0m\u001b[0;34m,\u001b[0m \u001b[0mtrain_accuracy\u001b[0m\u001b[0;34m,\u001b[0m \u001b[0mrunning_time\u001b[0m \u001b[0;34m=\u001b[0m \u001b[0mmodel\u001b[0m\u001b[0;34m.\u001b[0m\u001b[0mfit\u001b[0m\u001b[0;34m(\u001b[0m\u001b[0;34m'solution2'\u001b[0m\u001b[0;34m)\u001b[0m\u001b[0;34m\u001b[0m\u001b[0;34m\u001b[0m\u001b[0m\n\u001b[1;32m      3\u001b[0m \u001b[0mprint\u001b[0m\u001b[0;34m(\u001b[0m\u001b[0;34m\"classifier beta:\\n\"\u001b[0m\u001b[0;34m,\u001b[0m \u001b[0mbeta\u001b[0m\u001b[0;34m)\u001b[0m\u001b[0;34m\u001b[0m\u001b[0;34m\u001b[0m\u001b[0m\n\u001b[1;32m      4\u001b[0m \u001b[0mprint\u001b[0m\u001b[0;34m(\u001b[0m\u001b[0;34m\"classifier train accuracy:\"\u001b[0m\u001b[0;34m,\u001b[0m \u001b[0mtrain_accuracy\u001b[0m\u001b[0;34m)\u001b[0m\u001b[0;34m\u001b[0m\u001b[0;34m\u001b[0m\u001b[0m\n\u001b[1;32m      5\u001b[0m \u001b[0mprint\u001b[0m\u001b[0;34m(\u001b[0m\u001b[0;34m'classifier running time:'\u001b[0m\u001b[0;34m,\u001b[0m \u001b[0mrunning_time\u001b[0m\u001b[0;34m)\u001b[0m\u001b[0;34m\u001b[0m\u001b[0;34m\u001b[0m\u001b[0m\n",
            "\u001b[0;31mAttributeError\u001b[0m: module 'elm' has no attribute 'elm'"
          ]
        }
      ]
    },
    {
      "cell_type": "code",
      "source": [],
      "metadata": {
        "id": "KGdcEqjgOTa4"
      },
      "execution_count": null,
      "outputs": []
    }
  ]
}